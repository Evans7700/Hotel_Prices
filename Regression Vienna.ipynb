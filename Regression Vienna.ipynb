{
 "cells": [
  {
   "cell_type": "code",
   "execution_count": 25,
   "id": "f8a9e52f",
   "metadata": {},
   "outputs": [],
   "source": [
    "import pandas as pd\n",
    "import numpy as np\n",
    "import matplotlib.pyplot as plt\n",
    "import seaborn as sns\n",
    "\n",
    "pd.set_option('display.max_columns',100)\n",
    "pd.set_option('display.max_rows',None)"
   ]
  },
  {
   "cell_type": "code",
   "execution_count": 3,
   "id": "bf7800f1",
   "metadata": {},
   "outputs": [],
   "source": [
    "read_path = \"hotels-vienna.csv\"\n",
    "df = pd.read_csv(read_path)"
   ]
  },
  {
   "cell_type": "code",
   "execution_count": 4,
   "id": "333abf28",
   "metadata": {},
   "outputs": [
    {
     "data": {
      "text/html": [
       "<div>\n",
       "<style scoped>\n",
       "    .dataframe tbody tr th:only-of-type {\n",
       "        vertical-align: middle;\n",
       "    }\n",
       "\n",
       "    .dataframe tbody tr th {\n",
       "        vertical-align: top;\n",
       "    }\n",
       "\n",
       "    .dataframe thead th {\n",
       "        text-align: right;\n",
       "    }\n",
       "</style>\n",
       "<table border=\"1\" class=\"dataframe\">\n",
       "  <thead>\n",
       "    <tr style=\"text-align: right;\">\n",
       "      <th></th>\n",
       "      <th>country</th>\n",
       "      <th>city_actual</th>\n",
       "      <th>rating_count</th>\n",
       "      <th>center1label</th>\n",
       "      <th>center2label</th>\n",
       "      <th>neighbourhood</th>\n",
       "      <th>price</th>\n",
       "      <th>city</th>\n",
       "      <th>stars</th>\n",
       "      <th>ratingta</th>\n",
       "      <th>ratingta_count</th>\n",
       "      <th>scarce_room</th>\n",
       "      <th>hotel_id</th>\n",
       "      <th>offer</th>\n",
       "      <th>offer_cat</th>\n",
       "      <th>year</th>\n",
       "      <th>month</th>\n",
       "      <th>weekend</th>\n",
       "      <th>holiday</th>\n",
       "      <th>distance</th>\n",
       "      <th>distance_alter</th>\n",
       "      <th>accommodation_type</th>\n",
       "      <th>nnights</th>\n",
       "      <th>rating</th>\n",
       "    </tr>\n",
       "  </thead>\n",
       "  <tbody>\n",
       "    <tr>\n",
       "      <th>0</th>\n",
       "      <td>Austria</td>\n",
       "      <td>Vienna</td>\n",
       "      <td>36.0</td>\n",
       "      <td>City centre</td>\n",
       "      <td>Donauturm</td>\n",
       "      <td>17. Hernals</td>\n",
       "      <td>81</td>\n",
       "      <td>Vienna</td>\n",
       "      <td>4.0</td>\n",
       "      <td>4.5</td>\n",
       "      <td>216.0</td>\n",
       "      <td>1</td>\n",
       "      <td>21894</td>\n",
       "      <td>1</td>\n",
       "      <td>15-50% offer</td>\n",
       "      <td>2017</td>\n",
       "      <td>11</td>\n",
       "      <td>0</td>\n",
       "      <td>0</td>\n",
       "      <td>2.7</td>\n",
       "      <td>4.4</td>\n",
       "      <td>Apartment</td>\n",
       "      <td>1</td>\n",
       "      <td>4.4</td>\n",
       "    </tr>\n",
       "    <tr>\n",
       "      <th>1</th>\n",
       "      <td>Austria</td>\n",
       "      <td>Vienna</td>\n",
       "      <td>189.0</td>\n",
       "      <td>City centre</td>\n",
       "      <td>Donauturm</td>\n",
       "      <td>17. Hernals</td>\n",
       "      <td>81</td>\n",
       "      <td>Vienna</td>\n",
       "      <td>4.0</td>\n",
       "      <td>3.5</td>\n",
       "      <td>708.0</td>\n",
       "      <td>0</td>\n",
       "      <td>21897</td>\n",
       "      <td>1</td>\n",
       "      <td>1-15% offer</td>\n",
       "      <td>2017</td>\n",
       "      <td>11</td>\n",
       "      <td>0</td>\n",
       "      <td>0</td>\n",
       "      <td>1.7</td>\n",
       "      <td>3.8</td>\n",
       "      <td>Hotel</td>\n",
       "      <td>1</td>\n",
       "      <td>3.9</td>\n",
       "    </tr>\n",
       "    <tr>\n",
       "      <th>2</th>\n",
       "      <td>Austria</td>\n",
       "      <td>Vienna</td>\n",
       "      <td>53.0</td>\n",
       "      <td>City centre</td>\n",
       "      <td>Donauturm</td>\n",
       "      <td>Alsergrund</td>\n",
       "      <td>85</td>\n",
       "      <td>Vienna</td>\n",
       "      <td>4.0</td>\n",
       "      <td>3.5</td>\n",
       "      <td>629.0</td>\n",
       "      <td>0</td>\n",
       "      <td>21901</td>\n",
       "      <td>1</td>\n",
       "      <td>15-50% offer</td>\n",
       "      <td>2017</td>\n",
       "      <td>11</td>\n",
       "      <td>0</td>\n",
       "      <td>0</td>\n",
       "      <td>1.4</td>\n",
       "      <td>2.5</td>\n",
       "      <td>Hotel</td>\n",
       "      <td>1</td>\n",
       "      <td>3.7</td>\n",
       "    </tr>\n",
       "    <tr>\n",
       "      <th>3</th>\n",
       "      <td>Austria</td>\n",
       "      <td>Vienna</td>\n",
       "      <td>55.0</td>\n",
       "      <td>City centre</td>\n",
       "      <td>Donauturm</td>\n",
       "      <td>Alsergrund</td>\n",
       "      <td>83</td>\n",
       "      <td>Vienna</td>\n",
       "      <td>3.0</td>\n",
       "      <td>4.0</td>\n",
       "      <td>52.0</td>\n",
       "      <td>0</td>\n",
       "      <td>21902</td>\n",
       "      <td>1</td>\n",
       "      <td>15-50% offer</td>\n",
       "      <td>2017</td>\n",
       "      <td>11</td>\n",
       "      <td>0</td>\n",
       "      <td>0</td>\n",
       "      <td>1.7</td>\n",
       "      <td>2.5</td>\n",
       "      <td>Hotel</td>\n",
       "      <td>1</td>\n",
       "      <td>4.0</td>\n",
       "    </tr>\n",
       "    <tr>\n",
       "      <th>4</th>\n",
       "      <td>Austria</td>\n",
       "      <td>Vienna</td>\n",
       "      <td>33.0</td>\n",
       "      <td>City centre</td>\n",
       "      <td>Donauturm</td>\n",
       "      <td>Alsergrund</td>\n",
       "      <td>82</td>\n",
       "      <td>Vienna</td>\n",
       "      <td>4.0</td>\n",
       "      <td>3.5</td>\n",
       "      <td>219.0</td>\n",
       "      <td>1</td>\n",
       "      <td>21903</td>\n",
       "      <td>1</td>\n",
       "      <td>15-50% offer</td>\n",
       "      <td>2017</td>\n",
       "      <td>11</td>\n",
       "      <td>0</td>\n",
       "      <td>0</td>\n",
       "      <td>1.2</td>\n",
       "      <td>2.8</td>\n",
       "      <td>Hotel</td>\n",
       "      <td>1</td>\n",
       "      <td>3.9</td>\n",
       "    </tr>\n",
       "  </tbody>\n",
       "</table>\n",
       "</div>"
      ],
      "text/plain": [
       "   country city_actual  rating_count center1label center2label neighbourhood  \\\n",
       "0  Austria      Vienna          36.0  City centre    Donauturm   17. Hernals   \n",
       "1  Austria      Vienna         189.0  City centre    Donauturm   17. Hernals   \n",
       "2  Austria      Vienna          53.0  City centre    Donauturm    Alsergrund   \n",
       "3  Austria      Vienna          55.0  City centre    Donauturm    Alsergrund   \n",
       "4  Austria      Vienna          33.0  City centre    Donauturm    Alsergrund   \n",
       "\n",
       "   price    city  stars  ratingta  ratingta_count  scarce_room  hotel_id  \\\n",
       "0     81  Vienna    4.0       4.5           216.0            1     21894   \n",
       "1     81  Vienna    4.0       3.5           708.0            0     21897   \n",
       "2     85  Vienna    4.0       3.5           629.0            0     21901   \n",
       "3     83  Vienna    3.0       4.0            52.0            0     21902   \n",
       "4     82  Vienna    4.0       3.5           219.0            1     21903   \n",
       "\n",
       "   offer     offer_cat  year  month  weekend  holiday  distance  \\\n",
       "0      1  15-50% offer  2017     11        0        0       2.7   \n",
       "1      1   1-15% offer  2017     11        0        0       1.7   \n",
       "2      1  15-50% offer  2017     11        0        0       1.4   \n",
       "3      1  15-50% offer  2017     11        0        0       1.7   \n",
       "4      1  15-50% offer  2017     11        0        0       1.2   \n",
       "\n",
       "   distance_alter accommodation_type  nnights  rating  \n",
       "0             4.4          Apartment        1     4.4  \n",
       "1             3.8              Hotel        1     3.9  \n",
       "2             2.5              Hotel        1     3.7  \n",
       "3             2.5              Hotel        1     4.0  \n",
       "4             2.8              Hotel        1     3.9  "
      ]
     },
     "execution_count": 4,
     "metadata": {},
     "output_type": "execute_result"
    }
   ],
   "source": [
    "df.head()"
   ]
  },
  {
   "cell_type": "code",
   "execution_count": 5,
   "id": "890d6c18",
   "metadata": {},
   "outputs": [
    {
     "data": {
      "text/plain": [
       "24"
      ]
     },
     "execution_count": 5,
     "metadata": {},
     "output_type": "execute_result"
    }
   ],
   "source": [
    "len(df.columns)"
   ]
  },
  {
   "cell_type": "code",
   "execution_count": 6,
   "id": "9334df2c",
   "metadata": {},
   "outputs": [
    {
     "name": "stdout",
     "output_type": "stream",
     "text": [
      "<class 'pandas.core.frame.DataFrame'>\n",
      "RangeIndex: 428 entries, 0 to 427\n",
      "Data columns (total 24 columns):\n",
      " #   Column              Non-Null Count  Dtype  \n",
      "---  ------              --------------  -----  \n",
      " 0   country             428 non-null    object \n",
      " 1   city_actual         428 non-null    object \n",
      " 2   rating_count        393 non-null    float64\n",
      " 3   center1label        428 non-null    object \n",
      " 4   center2label        428 non-null    object \n",
      " 5   neighbourhood       428 non-null    object \n",
      " 6   price               428 non-null    int64  \n",
      " 7   city                428 non-null    object \n",
      " 8   stars               428 non-null    float64\n",
      " 9   ratingta            325 non-null    float64\n",
      " 10  ratingta_count      325 non-null    float64\n",
      " 11  scarce_room         428 non-null    int64  \n",
      " 12  hotel_id            428 non-null    int64  \n",
      " 13  offer               428 non-null    int64  \n",
      " 14  offer_cat           428 non-null    object \n",
      " 15  year                428 non-null    int64  \n",
      " 16  month               428 non-null    int64  \n",
      " 17  weekend             428 non-null    int64  \n",
      " 18  holiday             428 non-null    int64  \n",
      " 19  distance            428 non-null    float64\n",
      " 20  distance_alter      428 non-null    float64\n",
      " 21  accommodation_type  428 non-null    object \n",
      " 22  nnights             428 non-null    int64  \n",
      " 23  rating              393 non-null    float64\n",
      "dtypes: float64(7), int64(9), object(8)\n",
      "memory usage: 80.4+ KB\n"
     ]
    }
   ],
   "source": [
    "df.info()"
   ]
  },
  {
   "cell_type": "code",
   "execution_count": 7,
   "id": "7a8fa2ac",
   "metadata": {},
   "outputs": [
    {
     "data": {
      "text/plain": [
       "country                 0\n",
       "city_actual             0\n",
       "rating_count           35\n",
       "center1label            0\n",
       "center2label            0\n",
       "neighbourhood           0\n",
       "price                   0\n",
       "city                    0\n",
       "stars                   0\n",
       "ratingta              103\n",
       "ratingta_count        103\n",
       "scarce_room             0\n",
       "hotel_id                0\n",
       "offer                   0\n",
       "offer_cat               0\n",
       "year                    0\n",
       "month                   0\n",
       "weekend                 0\n",
       "holiday                 0\n",
       "distance                0\n",
       "distance_alter          0\n",
       "accommodation_type      0\n",
       "nnights                 0\n",
       "rating                 35\n",
       "dtype: int64"
      ]
     },
     "execution_count": 7,
     "metadata": {},
     "output_type": "execute_result"
    }
   ],
   "source": [
    "df.isna().sum()"
   ]
  },
  {
   "cell_type": "code",
   "execution_count": 8,
   "id": "26868b11",
   "metadata": {},
   "outputs": [
    {
     "data": {
      "text/html": [
       "<div>\n",
       "<style scoped>\n",
       "    .dataframe tbody tr th:only-of-type {\n",
       "        vertical-align: middle;\n",
       "    }\n",
       "\n",
       "    .dataframe tbody tr th {\n",
       "        vertical-align: top;\n",
       "    }\n",
       "\n",
       "    .dataframe thead th {\n",
       "        text-align: right;\n",
       "    }\n",
       "</style>\n",
       "<table border=\"1\" class=\"dataframe\">\n",
       "  <thead>\n",
       "    <tr style=\"text-align: right;\">\n",
       "      <th></th>\n",
       "      <th>rating_count</th>\n",
       "      <th>price</th>\n",
       "      <th>stars</th>\n",
       "      <th>ratingta</th>\n",
       "      <th>ratingta_count</th>\n",
       "      <th>scarce_room</th>\n",
       "      <th>hotel_id</th>\n",
       "      <th>offer</th>\n",
       "      <th>year</th>\n",
       "      <th>month</th>\n",
       "      <th>weekend</th>\n",
       "      <th>holiday</th>\n",
       "      <th>distance</th>\n",
       "      <th>distance_alter</th>\n",
       "      <th>nnights</th>\n",
       "      <th>rating</th>\n",
       "    </tr>\n",
       "  </thead>\n",
       "  <tbody>\n",
       "    <tr>\n",
       "      <th>count</th>\n",
       "      <td>393.000000</td>\n",
       "      <td>428.000000</td>\n",
       "      <td>428.000000</td>\n",
       "      <td>325.000000</td>\n",
       "      <td>325.000000</td>\n",
       "      <td>428.000000</td>\n",
       "      <td>428.000000</td>\n",
       "      <td>428.000000</td>\n",
       "      <td>428.0</td>\n",
       "      <td>428.0</td>\n",
       "      <td>428.0</td>\n",
       "      <td>428.0</td>\n",
       "      <td>428.000000</td>\n",
       "      <td>428.000000</td>\n",
       "      <td>428.0</td>\n",
       "      <td>393.000000</td>\n",
       "    </tr>\n",
       "    <tr>\n",
       "      <th>mean</th>\n",
       "      <td>155.048346</td>\n",
       "      <td>131.366822</td>\n",
       "      <td>3.434579</td>\n",
       "      <td>3.990769</td>\n",
       "      <td>556.516923</td>\n",
       "      <td>0.598131</td>\n",
       "      <td>22153.502336</td>\n",
       "      <td>0.679907</td>\n",
       "      <td>2017.0</td>\n",
       "      <td>11.0</td>\n",
       "      <td>0.0</td>\n",
       "      <td>0.0</td>\n",
       "      <td>1.658879</td>\n",
       "      <td>3.718458</td>\n",
       "      <td>1.0</td>\n",
       "      <td>3.970992</td>\n",
       "    </tr>\n",
       "    <tr>\n",
       "      <th>std</th>\n",
       "      <td>191.217435</td>\n",
       "      <td>91.580545</td>\n",
       "      <td>0.772278</td>\n",
       "      <td>0.482638</td>\n",
       "      <td>586.874582</td>\n",
       "      <td>0.490850</td>\n",
       "      <td>146.858477</td>\n",
       "      <td>0.467058</td>\n",
       "      <td>0.0</td>\n",
       "      <td>0.0</td>\n",
       "      <td>0.0</td>\n",
       "      <td>0.0</td>\n",
       "      <td>1.595673</td>\n",
       "      <td>1.631341</td>\n",
       "      <td>0.0</td>\n",
       "      <td>0.577444</td>\n",
       "    </tr>\n",
       "    <tr>\n",
       "      <th>min</th>\n",
       "      <td>1.000000</td>\n",
       "      <td>27.000000</td>\n",
       "      <td>1.000000</td>\n",
       "      <td>2.000000</td>\n",
       "      <td>2.000000</td>\n",
       "      <td>0.000000</td>\n",
       "      <td>21894.000000</td>\n",
       "      <td>0.000000</td>\n",
       "      <td>2017.0</td>\n",
       "      <td>11.0</td>\n",
       "      <td>0.0</td>\n",
       "      <td>0.0</td>\n",
       "      <td>0.000000</td>\n",
       "      <td>0.600000</td>\n",
       "      <td>1.0</td>\n",
       "      <td>1.000000</td>\n",
       "    </tr>\n",
       "    <tr>\n",
       "      <th>25%</th>\n",
       "      <td>27.000000</td>\n",
       "      <td>83.000000</td>\n",
       "      <td>3.000000</td>\n",
       "      <td>3.500000</td>\n",
       "      <td>129.000000</td>\n",
       "      <td>0.000000</td>\n",
       "      <td>22027.750000</td>\n",
       "      <td>0.000000</td>\n",
       "      <td>2017.0</td>\n",
       "      <td>11.0</td>\n",
       "      <td>0.0</td>\n",
       "      <td>0.0</td>\n",
       "      <td>0.700000</td>\n",
       "      <td>2.700000</td>\n",
       "      <td>1.0</td>\n",
       "      <td>3.700000</td>\n",
       "    </tr>\n",
       "    <tr>\n",
       "      <th>50%</th>\n",
       "      <td>84.000000</td>\n",
       "      <td>109.500000</td>\n",
       "      <td>3.500000</td>\n",
       "      <td>4.000000</td>\n",
       "      <td>335.000000</td>\n",
       "      <td>1.000000</td>\n",
       "      <td>22155.500000</td>\n",
       "      <td>1.000000</td>\n",
       "      <td>2017.0</td>\n",
       "      <td>11.0</td>\n",
       "      <td>0.0</td>\n",
       "      <td>0.0</td>\n",
       "      <td>1.300000</td>\n",
       "      <td>3.400000</td>\n",
       "      <td>1.0</td>\n",
       "      <td>4.000000</td>\n",
       "    </tr>\n",
       "    <tr>\n",
       "      <th>75%</th>\n",
       "      <td>203.000000</td>\n",
       "      <td>146.000000</td>\n",
       "      <td>4.000000</td>\n",
       "      <td>4.500000</td>\n",
       "      <td>811.000000</td>\n",
       "      <td>1.000000</td>\n",
       "      <td>22279.250000</td>\n",
       "      <td>1.000000</td>\n",
       "      <td>2017.0</td>\n",
       "      <td>11.0</td>\n",
       "      <td>0.0</td>\n",
       "      <td>0.0</td>\n",
       "      <td>2.000000</td>\n",
       "      <td>4.400000</td>\n",
       "      <td>1.0</td>\n",
       "      <td>4.400000</td>\n",
       "    </tr>\n",
       "    <tr>\n",
       "      <th>max</th>\n",
       "      <td>1541.000000</td>\n",
       "      <td>1012.000000</td>\n",
       "      <td>5.000000</td>\n",
       "      <td>5.000000</td>\n",
       "      <td>3171.000000</td>\n",
       "      <td>1.000000</td>\n",
       "      <td>22409.000000</td>\n",
       "      <td>1.000000</td>\n",
       "      <td>2017.0</td>\n",
       "      <td>11.0</td>\n",
       "      <td>0.0</td>\n",
       "      <td>0.0</td>\n",
       "      <td>13.000000</td>\n",
       "      <td>13.000000</td>\n",
       "      <td>1.0</td>\n",
       "      <td>5.000000</td>\n",
       "    </tr>\n",
       "  </tbody>\n",
       "</table>\n",
       "</div>"
      ],
      "text/plain": [
       "       rating_count        price       stars    ratingta  ratingta_count  \\\n",
       "count    393.000000   428.000000  428.000000  325.000000      325.000000   \n",
       "mean     155.048346   131.366822    3.434579    3.990769      556.516923   \n",
       "std      191.217435    91.580545    0.772278    0.482638      586.874582   \n",
       "min        1.000000    27.000000    1.000000    2.000000        2.000000   \n",
       "25%       27.000000    83.000000    3.000000    3.500000      129.000000   \n",
       "50%       84.000000   109.500000    3.500000    4.000000      335.000000   \n",
       "75%      203.000000   146.000000    4.000000    4.500000      811.000000   \n",
       "max     1541.000000  1012.000000    5.000000    5.000000     3171.000000   \n",
       "\n",
       "       scarce_room      hotel_id       offer    year  month  weekend  holiday  \\\n",
       "count   428.000000    428.000000  428.000000   428.0  428.0    428.0    428.0   \n",
       "mean      0.598131  22153.502336    0.679907  2017.0   11.0      0.0      0.0   \n",
       "std       0.490850    146.858477    0.467058     0.0    0.0      0.0      0.0   \n",
       "min       0.000000  21894.000000    0.000000  2017.0   11.0      0.0      0.0   \n",
       "25%       0.000000  22027.750000    0.000000  2017.0   11.0      0.0      0.0   \n",
       "50%       1.000000  22155.500000    1.000000  2017.0   11.0      0.0      0.0   \n",
       "75%       1.000000  22279.250000    1.000000  2017.0   11.0      0.0      0.0   \n",
       "max       1.000000  22409.000000    1.000000  2017.0   11.0      0.0      0.0   \n",
       "\n",
       "         distance  distance_alter  nnights      rating  \n",
       "count  428.000000      428.000000    428.0  393.000000  \n",
       "mean     1.658879        3.718458      1.0    3.970992  \n",
       "std      1.595673        1.631341      0.0    0.577444  \n",
       "min      0.000000        0.600000      1.0    1.000000  \n",
       "25%      0.700000        2.700000      1.0    3.700000  \n",
       "50%      1.300000        3.400000      1.0    4.000000  \n",
       "75%      2.000000        4.400000      1.0    4.400000  \n",
       "max     13.000000       13.000000      1.0    5.000000  "
      ]
     },
     "execution_count": 8,
     "metadata": {},
     "output_type": "execute_result"
    }
   ],
   "source": [
    "df.describe()"
   ]
  },
  {
   "cell_type": "code",
   "execution_count": 9,
   "id": "fb5dbc25",
   "metadata": {},
   "outputs": [
    {
     "data": {
      "text/plain": [
       "array(['Vienna'], dtype=object)"
      ]
     },
     "execution_count": 9,
     "metadata": {},
     "output_type": "execute_result"
    }
   ],
   "source": [
    "df[\"city\"].unique()"
   ]
  },
  {
   "cell_type": "code",
   "execution_count": 10,
   "id": "37188a59",
   "metadata": {},
   "outputs": [
    {
     "data": {
      "text/plain": [
       "array(['17. Hernals', 'Alsergrund', 'Donaustadt', 'Favoriten',\n",
       "       'Fischamend', 'Graben', 'Innere Stadt', 'Josefstadt',\n",
       "       'Kaerntner Strasse', 'Landstrasse', 'Leopoldstadt', 'Margareten',\n",
       "       'Mariahilf', 'Neubau', 'Ottakring', 'Rudolfsheim-Funfhaus',\n",
       "       'Schonbrunn', 'Schwechat', 'Vienna', 'Voesendorf', 'Wahring',\n",
       "       'Wieden'], dtype=object)"
      ]
     },
     "execution_count": 10,
     "metadata": {},
     "output_type": "execute_result"
    }
   ],
   "source": [
    "df[\"neighbourhood\"].unique()"
   ]
  },
  {
   "cell_type": "code",
   "execution_count": 11,
   "id": "06cfab38",
   "metadata": {},
   "outputs": [
    {
     "data": {
      "text/plain": [
       "Innere Stadt            84\n",
       "Vienna                  43\n",
       "Leopoldstadt            41\n",
       "Landstrasse             32\n",
       "Josefstadt              26\n",
       "Mariahilf               25\n",
       "Wieden                  22\n",
       "Favoriten               22\n",
       "Rudolfsheim-Funfhaus    21\n",
       "Neubau                  21\n",
       "Alsergrund              17\n",
       "Margareten              16\n",
       "Schonbrunn              14\n",
       "Kaerntner Strasse       10\n",
       "Donaustadt               9\n",
       "Schwechat                7\n",
       "Ottakring                5\n",
       "Wahring                  5\n",
       "Graben                   3\n",
       "Voesendorf               2\n",
       "17. Hernals              2\n",
       "Fischamend               1\n",
       "Name: neighbourhood, dtype: int64"
      ]
     },
     "execution_count": 11,
     "metadata": {},
     "output_type": "execute_result"
    }
   ],
   "source": [
    "df[\"neighbourhood\"].value_counts()"
   ]
  },
  {
   "cell_type": "code",
   "execution_count": 12,
   "id": "aa9942cd",
   "metadata": {},
   "outputs": [
    {
     "data": {
      "text/html": [
       "<div>\n",
       "<style scoped>\n",
       "    .dataframe tbody tr th:only-of-type {\n",
       "        vertical-align: middle;\n",
       "    }\n",
       "\n",
       "    .dataframe tbody tr th {\n",
       "        vertical-align: top;\n",
       "    }\n",
       "\n",
       "    .dataframe thead th {\n",
       "        text-align: right;\n",
       "    }\n",
       "</style>\n",
       "<table border=\"1\" class=\"dataframe\">\n",
       "  <thead>\n",
       "    <tr style=\"text-align: right;\">\n",
       "      <th></th>\n",
       "      <th>price</th>\n",
       "      <th>distance</th>\n",
       "    </tr>\n",
       "  </thead>\n",
       "  <tbody>\n",
       "    <tr>\n",
       "      <th>count</th>\n",
       "      <td>428.000000</td>\n",
       "      <td>428.000000</td>\n",
       "    </tr>\n",
       "    <tr>\n",
       "      <th>mean</th>\n",
       "      <td>131.366822</td>\n",
       "      <td>1.658879</td>\n",
       "    </tr>\n",
       "    <tr>\n",
       "      <th>std</th>\n",
       "      <td>91.580545</td>\n",
       "      <td>1.595673</td>\n",
       "    </tr>\n",
       "    <tr>\n",
       "      <th>min</th>\n",
       "      <td>27.000000</td>\n",
       "      <td>0.000000</td>\n",
       "    </tr>\n",
       "    <tr>\n",
       "      <th>25%</th>\n",
       "      <td>83.000000</td>\n",
       "      <td>0.700000</td>\n",
       "    </tr>\n",
       "    <tr>\n",
       "      <th>50%</th>\n",
       "      <td>109.500000</td>\n",
       "      <td>1.300000</td>\n",
       "    </tr>\n",
       "    <tr>\n",
       "      <th>75%</th>\n",
       "      <td>146.000000</td>\n",
       "      <td>2.000000</td>\n",
       "    </tr>\n",
       "    <tr>\n",
       "      <th>max</th>\n",
       "      <td>1012.000000</td>\n",
       "      <td>13.000000</td>\n",
       "    </tr>\n",
       "  </tbody>\n",
       "</table>\n",
       "</div>"
      ],
      "text/plain": [
       "             price    distance\n",
       "count   428.000000  428.000000\n",
       "mean    131.366822    1.658879\n",
       "std      91.580545    1.595673\n",
       "min      27.000000    0.000000\n",
       "25%      83.000000    0.700000\n",
       "50%     109.500000    1.300000\n",
       "75%     146.000000    2.000000\n",
       "max    1012.000000   13.000000"
      ]
     },
     "execution_count": 12,
     "metadata": {},
     "output_type": "execute_result"
    }
   ],
   "source": [
    "df[[\"price\",\"distance\"]].describe()"
   ]
  },
  {
   "cell_type": "code",
   "execution_count": 13,
   "id": "88f2653c",
   "metadata": {},
   "outputs": [
    {
     "data": {
      "text/plain": [
       "array([[<AxesSubplot:title={'center':'price'}>]], dtype=object)"
      ]
     },
     "execution_count": 13,
     "metadata": {},
     "output_type": "execute_result"
    },
    {
     "data": {
      "image/png": "[encoded data removed]",
      "text/plain": [
       "<Figure size 432x288 with 1 Axes>"
      ]
     },
     "metadata": {
      "needs_background": "light"
     },
     "output_type": "display_data"
    }
   ],
   "source": [
    "df[[\"price\"]].hist()"
   ]
  },
  {
   "cell_type": "code",
   "execution_count": 14,
   "id": "859ed52d",
   "metadata": {},
   "outputs": [
    {
     "data": {
      "image/png": "[encoded data removed]",
      "text/plain": [
       "<Figure size 1440x432 with 1 Axes>"
      ]
     },
     "metadata": {
      "needs_background": "light"
     },
     "output_type": "display_data"
    }
   ],
   "source": [
    "df[[\"price\",\"distance\"]].plot.scatter(x=\"distance\", y=\"price\", figsize=(20,6))\n",
    "plt.title(\"Distance vs Price\")\n",
    "plt.show()"
   ]
  },
  {
   "cell_type": "markdown",
   "id": "6a21aa21",
   "metadata": {},
   "source": [
    "We note the most expensive hotels are near the city center and the ones further away from th city center are some of the cheapest one."
   ]
  },
  {
   "cell_type": "markdown",
   "id": "12790a11",
   "metadata": {},
   "source": [
    "The expensive hotels are the ones more than 700 euros "
   ]
  },
  {
   "cell_type": "code",
   "execution_count": 15,
   "id": "fee7d0af",
   "metadata": {},
   "outputs": [
    {
     "data": {
      "text/html": [
       "<div>\n",
       "<style scoped>\n",
       "    .dataframe tbody tr th:only-of-type {\n",
       "        vertical-align: middle;\n",
       "    }\n",
       "\n",
       "    .dataframe tbody tr th {\n",
       "        vertical-align: top;\n",
       "    }\n",
       "\n",
       "    .dataframe thead th {\n",
       "        text-align: right;\n",
       "    }\n",
       "</style>\n",
       "<table border=\"1\" class=\"dataframe\">\n",
       "  <thead>\n",
       "    <tr style=\"text-align: right;\">\n",
       "      <th></th>\n",
       "      <th>country</th>\n",
       "      <th>city_actual</th>\n",
       "      <th>rating_count</th>\n",
       "      <th>center1label</th>\n",
       "      <th>center2label</th>\n",
       "      <th>neighbourhood</th>\n",
       "      <th>price</th>\n",
       "      <th>city</th>\n",
       "      <th>stars</th>\n",
       "      <th>ratingta</th>\n",
       "      <th>ratingta_count</th>\n",
       "      <th>scarce_room</th>\n",
       "      <th>hotel_id</th>\n",
       "      <th>offer</th>\n",
       "      <th>offer_cat</th>\n",
       "      <th>year</th>\n",
       "      <th>month</th>\n",
       "      <th>weekend</th>\n",
       "      <th>holiday</th>\n",
       "      <th>distance</th>\n",
       "      <th>distance_alter</th>\n",
       "      <th>accommodation_type</th>\n",
       "      <th>nnights</th>\n",
       "      <th>rating</th>\n",
       "    </tr>\n",
       "  </thead>\n",
       "  <tbody>\n",
       "    <tr>\n",
       "      <th>61</th>\n",
       "      <td>Austria</td>\n",
       "      <td>Vienna</td>\n",
       "      <td>5.0</td>\n",
       "      <td>City centre</td>\n",
       "      <td>Donauturm</td>\n",
       "      <td>Innere Stadt</td>\n",
       "      <td>806</td>\n",
       "      <td>Vienna</td>\n",
       "      <td>5.0</td>\n",
       "      <td>4.5</td>\n",
       "      <td>114.0</td>\n",
       "      <td>0</td>\n",
       "      <td>21976</td>\n",
       "      <td>1</td>\n",
       "      <td>15-50% offer</td>\n",
       "      <td>2017</td>\n",
       "      <td>11</td>\n",
       "      <td>0</td>\n",
       "      <td>0</td>\n",
       "      <td>0.3</td>\n",
       "      <td>2.8</td>\n",
       "      <td>Hotel</td>\n",
       "      <td>1</td>\n",
       "      <td>4.5</td>\n",
       "    </tr>\n",
       "    <tr>\n",
       "      <th>300</th>\n",
       "      <td>Austria</td>\n",
       "      <td>Vienna</td>\n",
       "      <td>77.0</td>\n",
       "      <td>City centre</td>\n",
       "      <td>Donauturm</td>\n",
       "      <td>Neubau</td>\n",
       "      <td>1012</td>\n",
       "      <td>Vienna</td>\n",
       "      <td>3.0</td>\n",
       "      <td>4.0</td>\n",
       "      <td>364.0</td>\n",
       "      <td>1</td>\n",
       "      <td>22252</td>\n",
       "      <td>1</td>\n",
       "      <td>1-15% offer</td>\n",
       "      <td>2017</td>\n",
       "      <td>11</td>\n",
       "      <td>0</td>\n",
       "      <td>0</td>\n",
       "      <td>1.0</td>\n",
       "      <td>3.8</td>\n",
       "      <td>Hotel</td>\n",
       "      <td>1</td>\n",
       "      <td>4.3</td>\n",
       "    </tr>\n",
       "  </tbody>\n",
       "</table>\n",
       "</div>"
      ],
      "text/plain": [
       "     country city_actual  rating_count center1label center2label  \\\n",
       "61   Austria      Vienna           5.0  City centre    Donauturm   \n",
       "300  Austria      Vienna          77.0  City centre    Donauturm   \n",
       "\n",
       "    neighbourhood  price    city  stars  ratingta  ratingta_count  \\\n",
       "61   Innere Stadt    806  Vienna    5.0       4.5           114.0   \n",
       "300        Neubau   1012  Vienna    3.0       4.0           364.0   \n",
       "\n",
       "     scarce_room  hotel_id  offer     offer_cat  year  month  weekend  \\\n",
       "61             0     21976      1  15-50% offer  2017     11        0   \n",
       "300            1     22252      1   1-15% offer  2017     11        0   \n",
       "\n",
       "     holiday  distance  distance_alter accommodation_type  nnights  rating  \n",
       "61         0       0.3             2.8              Hotel        1     4.5  \n",
       "300        0       1.0             3.8              Hotel        1     4.3  "
      ]
     },
     "execution_count": 15,
     "metadata": {},
     "output_type": "execute_result"
    }
   ],
   "source": [
    "cond = df[\"price\"]>700\n",
    "df[cond]"
   ]
  },
  {
   "cell_type": "markdown",
   "id": "85b18b10",
   "metadata": {},
   "source": [
    "#### What is the average price per neighbourhood?"
   ]
  },
  {
   "cell_type": "code",
   "execution_count": 16,
   "id": "55df7cd2",
   "metadata": {
    "scrolled": true
   },
   "outputs": [
    {
     "data": {
      "text/plain": [
       "<AxesSubplot:xlabel='neighbourhood'>"
      ]
     },
     "execution_count": 16,
     "metadata": {},
     "output_type": "execute_result"
    },
    {
     "data": {
      "image/png": "[encoded data removed]",
      "text/plain": [
       "<Figure size 1440x432 with 1 Axes>"
      ]
     },
     "metadata": {
      "needs_background": "light"
     },
     "output_type": "display_data"
    }
   ],
   "source": [
    "(df[[\"price\",\"neighbourhood\"]]\n",
    " .groupby(\"neighbourhood\")\n",
    " .mean()\n",
    " .rename(columns={\"price\":\"avg_price\"})\n",
    " .sort_values(\"avg_price\", ascending=False)\n",
    " .plot.bar(figsize=(20,6))\n",
    ")"
   ]
  },
  {
   "cell_type": "code",
   "execution_count": 17,
   "id": "6da94862",
   "metadata": {},
   "outputs": [],
   "source": [
    "columns_to_fill = ['rating_count', 'rating','ratingta','ratingta_count']\n",
    "df[columns_to_fill] = df[columns_to_fill].fillna(0)"
   ]
  },
  {
   "cell_type": "code",
   "execution_count": 18,
   "id": "c940d1df",
   "metadata": {},
   "outputs": [
    {
     "data": {
      "text/plain": [
       "country               0\n",
       "city_actual           0\n",
       "rating_count          0\n",
       "center1label          0\n",
       "center2label          0\n",
       "neighbourhood         0\n",
       "price                 0\n",
       "city                  0\n",
       "stars                 0\n",
       "ratingta              0\n",
       "ratingta_count        0\n",
       "scarce_room           0\n",
       "hotel_id              0\n",
       "offer                 0\n",
       "offer_cat             0\n",
       "year                  0\n",
       "month                 0\n",
       "weekend               0\n",
       "holiday               0\n",
       "distance              0\n",
       "distance_alter        0\n",
       "accommodation_type    0\n",
       "nnights               0\n",
       "rating                0\n",
       "dtype: int64"
      ]
     },
     "execution_count": 18,
     "metadata": {},
     "output_type": "execute_result"
    }
   ],
   "source": [
    "df.isna().sum()"
   ]
  },
  {
   "cell_type": "code",
   "execution_count": 19,
   "id": "1ab68e99",
   "metadata": {},
   "outputs": [
    {
     "name": "stdout",
     "output_type": "stream",
     "text": [
      "<class 'pandas.core.frame.DataFrame'>\n",
      "RangeIndex: 428 entries, 0 to 427\n",
      "Data columns (total 24 columns):\n",
      " #   Column              Non-Null Count  Dtype  \n",
      "---  ------              --------------  -----  \n",
      " 0   country             428 non-null    object \n",
      " 1   city_actual         428 non-null    object \n",
      " 2   rating_count        428 non-null    float64\n",
      " 3   center1label        428 non-null    object \n",
      " 4   center2label        428 non-null    object \n",
      " 5   neighbourhood       428 non-null    object \n",
      " 6   price               428 non-null    int64  \n",
      " 7   city                428 non-null    object \n",
      " 8   stars               428 non-null    float64\n",
      " 9   ratingta            428 non-null    float64\n",
      " 10  ratingta_count      428 non-null    float64\n",
      " 11  scarce_room         428 non-null    int64  \n",
      " 12  hotel_id            428 non-null    int64  \n",
      " 13  offer               428 non-null    int64  \n",
      " 14  offer_cat           428 non-null    object \n",
      " 15  year                428 non-null    int64  \n",
      " 16  month               428 non-null    int64  \n",
      " 17  weekend             428 non-null    int64  \n",
      " 18  holiday             428 non-null    int64  \n",
      " 19  distance            428 non-null    float64\n",
      " 20  distance_alter      428 non-null    float64\n",
      " 21  accommodation_type  428 non-null    object \n",
      " 22  nnights             428 non-null    int64  \n",
      " 23  rating              428 non-null    float64\n",
      "dtypes: float64(7), int64(9), object(8)\n",
      "memory usage: 80.4+ KB\n"
     ]
    }
   ],
   "source": [
    "df.info()"
   ]
  },
  {
   "cell_type": "code",
   "execution_count": 20,
   "id": "8d0a51d3",
   "metadata": {},
   "outputs": [
    {
     "name": "stdout",
     "output_type": "stream",
     "text": [
      "The correlation between Price and Rating is: -0.0344839175485459\n"
     ]
    },
    {
     "data": {
      "image/png": "[encoded data removed]",
      "text/plain": [
       "<Figure size 432x288 with 1 Axes>"
      ]
     },
     "metadata": {
      "needs_background": "light"
     },
     "output_type": "display_data"
    }
   ],
   "source": [
    "#Show relation of price and rating\n",
    "df.plot.scatter(x = 'rating', y= 'price', title='Price Vs Rating')\n",
    "\n",
    "# Calculate the correlation between Price and Customer Rating\n",
    "correlation = df['price'].corr(df['rating'])\n",
    "\n",
    "print(f\"The correlation between Price and Rating is: {correlation}\")\n"
   ]
  },
  {
   "cell_type": "markdown",
   "id": "b42917cd",
   "metadata": {},
   "source": [
    "As per above graph, there is no linear relationship between price and rating."
   ]
  },
  {
   "cell_type": "code",
   "execution_count": 21,
   "id": "2b378314",
   "metadata": {},
   "outputs": [
    {
     "data": {
      "text/plain": [
       "<AxesSubplot:title={'center':'Accomodation Type Vs Rating'}, xlabel='accommodation_type', ylabel='price'>"
      ]
     },
     "execution_count": 21,
     "metadata": {},
     "output_type": "execute_result"
    },
    {
     "data": {
      "image/png": "[encoded data removed]",
      "text/plain": [
       "<Figure size 1440x432 with 1 Axes>"
      ]
     },
     "metadata": {
      "needs_background": "light"
     },
     "output_type": "display_data"
    }
   ],
   "source": [
    "#Show relation of price and accommodation_type\n",
    "df.plot.scatter(x = 'accommodation_type', y= 'price', title='Accomodation Type Vs Rating', figsize=(20,6))"
   ]
  },
  {
   "cell_type": "code",
   "execution_count": 72,
   "id": "2b5877ce",
   "metadata": {},
   "outputs": [],
   "source": [
    "def plot_confusion_matrix(y,y_predict):\n",
    "    \"this function plots the confusion matrix\"\n",
    "    from sklearn.metrics import confusion_matrix\n",
    "\n",
    "    cm = confusion_matrix(y, y_predict)\n",
    "    ax= plt.subplot()\n",
    "    sns.heatmap(cm, annot=True, ax = ax); #annot=True to annotate cells\n",
    "    ax.set_xlabel('Predicted labels')\n",
    "    ax.set_ylabel('True labels')\n",
    "    ax.set_title('Confusion Matrix'); \n",
    "    ax.xaxis.set_ticklabels(['did not land', 'land']); ax.yaxis.set_ticklabels(['did not land', 'landed']) \n",
    "    plt.show() "
   ]
  },
  {
   "cell_type": "code",
   "execution_count": 41,
   "id": "cb67b0d4",
   "metadata": {},
   "outputs": [
    {
     "data": {
      "text/plain": [
       "array([136.46127652, 160.54844397, 141.92382516, 123.19328462,\n",
       "       104.24610823, 127.13131349, 140.45226626, 129.7743197 ,\n",
       "       149.49497896, 126.87937041, 134.32215648, 148.70384246,\n",
       "       141.76494255, 141.8002498 , 123.19328462, 137.82691368,\n",
       "        50.79862218, 146.27747209, 143.25415508, 123.40992045,\n",
       "       139.37387943, 132.73988348, 100.81196552, 146.27747209,\n",
       "       140.48757351, 134.32215648, 139.37387943, 122.88838066,\n",
       "       128.4616434 , 120.74926062, 160.54844397, 124.47065366,\n",
       "       128.74889374, 149.74692204, 129.7743197 , 149.76457567,\n",
       "       145.305007  ,  50.79862218, 126.68038819, 140.97380605,\n",
       "       134.08786702, 131.40955357, 147.62545563, 142.84332938,\n",
       "       129.95085593, 143.63446588, 130.06157003, 160.54844397,\n",
       "       141.78259618,  92.05650316, 129.54003024, 142.84332938,\n",
       "       136.44362289, 115.42794096, 117.9778867 , 103.20302865,\n",
       "       139.26316533, 147.62545563, 150.01651875, 160.54844397,\n",
       "       139.64347614, 128.74889374, 147.10391584, 147.62545563,\n",
       "        85.40485358, 107.21167201,  93.92602649, 135.63483277,\n",
       "       144.49621688, 124.52361453, 136.53189101, 140.43461264,\n",
       "       160.54844397,  81.91775001, 137.75629919, 137.52200972,\n",
       "       104.04712602, 129.80962694, 131.94874698, 156.52214698,\n",
       "       148.70384246,  60.63247137, 145.50398921, 151.36450229,\n",
       "       104.56866581, 142.05219288])"
      ]
     },
     "execution_count": 41,
     "metadata": {},
     "output_type": "execute_result"
    }
   ],
   "source": [
    "# Multiple Linear Regression\n",
    "from sklearn.linear_model import LinearRegression\n",
    "from sklearn.model_selection import train_test_split\n",
    "from sklearn.metrics import mean_squared_error, r2_score\n",
    "from sklearn.preprocessing import StandardScaler, LabelEncoder\n",
    "\n",
    "X = df[[\"rating\" ,\"distance\"]]\n",
    "Y = df[\"price\"]\n",
    "\n",
    "X_train, X_test, Y_train, Y_test = train_test_split(X,Y, test_size=0.2, random_state=42)\n",
    "\n",
    "lr = LinearRegression()\n",
    "lr.fit(X_train, y_train) \n",
    "prediction = lr.predict(X_test)     \n",
    "prediction          "
   ]
  },
  {
   "cell_type": "code",
   "execution_count": 55,
   "id": "7e0be055",
   "metadata": {
    "scrolled": true
   },
   "outputs": [
    {
     "name": "stdout",
     "output_type": "stream",
     "text": [
      "RMSE: 68.83579060130336, R-squared: 0.0109832380916417\n"
     ]
    }
   ],
   "source": [
    "mse = mean_squared_error(Y_test, prediction)\n",
    "r2 = r2_score(Y_test, prediction)\n",
    "rmse = mse ** 0.5  \n",
    "print(f\"RMSE: {rmse}, R-squared: {r2}\") "
   ]
  },
  {
   "cell_type": "code",
   "execution_count": 51,
   "id": "86b1b6fe",
   "metadata": {},
   "outputs": [
    {
     "data": {
      "text/plain": [
       "array([ 81.96678571, 175.2619242 , 237.03138889, 122.576     ,\n",
       "       147.90316667, 114.2435    ,  84.49855159, 133.49      ,\n",
       "       151.53359524,  95.96985354, 114.54066667, 150.62647619,\n",
       "       166.0605    ,  81.03272222, 122.576     ,  64.94      ,\n",
       "       124.3       , 490.96669444, 136.30666667,  79.63966667,\n",
       "       156.29466667,  99.19766667,  76.9       , 490.96669444,\n",
       "        67.358     , 114.54066667, 156.29466667,  94.48516667,\n",
       "       110.0265    ,  89.7212381 , 175.2619242 ,  71.48683333,\n",
       "        71.51116667, 245.75366667, 133.49      , 156.12359524,\n",
       "        85.97466667, 124.3       ,  94.82      , 287.36016667,\n",
       "        77.925     , 103.22166667, 171.69766667,  89.196     ,\n",
       "       108.35452381, 127.74033333,  92.89516667, 175.2619242 ,\n",
       "       122.77372619, 132.        ,  91.4405    ,  89.196     ,\n",
       "       102.48085281,  97.5055    , 109.55285714,  91.21      ,\n",
       "       154.74333333, 171.69766667, 169.59071429, 175.2619242 ,\n",
       "       300.063     ,  71.51116667, 132.51083333, 171.69766667,\n",
       "       127.78      ,  74.115     , 128.57      , 161.20214286,\n",
       "        81.15466667, 121.246     , 105.915     , 107.019     ,\n",
       "       175.2619242 , 156.6       , 195.59358333,  81.918     ,\n",
       "       106.04      ,  92.61828571,  95.89466667, 255.14128571,\n",
       "       150.62647619, 151.25      , 170.37440476, 171.64185714,\n",
       "       134.96      , 106.68066667])"
      ]
     },
     "execution_count": 51,
     "metadata": {},
     "output_type": "execute_result"
    }
   ],
   "source": [
    "# Random Forest Regression\n",
    "from sklearn.ensemble import RandomForestRegressor\n",
    "\n",
    "# Initialize and fit a random forest\n",
    "\n",
    "forest = RandomForestRegressor(random_state=42)\n",
    "forest.fit(X_train, Y_train)\n",
    "\n",
    "# Make predictions\n",
    "predictions_forest = forest.predict(X_test)\n",
    "predictions_forest"
   ]
  },
  {
   "cell_type": "code",
   "execution_count": 60,
   "id": "d1a00f3f",
   "metadata": {},
   "outputs": [
    {
     "name": "stdout",
     "output_type": "stream",
     "text": [
      "RMSE: 61.62669870893047, R-squared: 0.2072927145408251\n"
     ]
    }
   ],
   "source": [
    "mse = mean_squared_error(Y_test, predictions_forest)\n",
    "r2 = r2_score(Y_test, predictions_forest)\n",
    "rmse = mse ** 0.5\n",
    "print(f\"RMSE: {rmse}, R-squared: {r2}\") "
   ]
  },
  {
   "cell_type": "code",
   "execution_count": 58,
   "id": "a32b3e04",
   "metadata": {},
   "outputs": [
    {
     "data": {
      "text/plain": [
       "array([103.51851835, 117.53290885, 116.90840523,  90.72646172,\n",
       "        99.01575966, 104.2729187 , 108.00488991, 115.37205718,\n",
       "       119.54380365,  96.55405763, 107.5238461 , 114.71650191,\n",
       "       119.96022337, 100.08334311,  90.72646172,  93.40165843,\n",
       "       109.67978067, 127.98733784, 117.08500465,  99.4859849 ,\n",
       "       115.40732813,  97.83204991,  96.58646435, 127.98733784,\n",
       "        94.99268077, 107.5238461 , 115.40732813,  94.24036508,\n",
       "       105.50899291,  97.95587053, 117.53290885, 102.06165124,\n",
       "        94.61865755, 126.68128791, 115.37205718, 117.75218973,\n",
       "       101.47285159, 109.67978067,  99.7451855 , 115.12579893,\n",
       "        92.48437246,  96.66530718, 121.84175681, 112.89811068,\n",
       "       114.82604495, 118.01981861, 105.07627578, 117.53290885,\n",
       "       109.5179681 , 102.81344948,  98.63888131, 112.89811068,\n",
       "       114.10202126,  96.20450604, 112.64475315,  95.56555508,\n",
       "       116.51119261, 121.84175681, 125.37282355, 117.53290885,\n",
       "       113.616919  ,  94.61865755, 115.25996932, 121.84175681,\n",
       "       105.10963973,  93.72875654, 103.1107279 , 118.51748252,\n",
       "        98.70191619,  90.53322323, 102.06461419, 118.55231875,\n",
       "       117.53290885, 105.28938159, 123.08017774, 106.82485748,\n",
       "       101.27189022,  97.05498047,  94.07691851, 114.20997863,\n",
       "       114.71650191, 109.22954571, 115.7665461 , 117.0835441 ,\n",
       "        98.37963995, 107.67626386])"
      ]
     },
     "execution_count": 58,
     "metadata": {},
     "output_type": "execute_result"
    }
   ],
   "source": [
    "from sklearn.svm import SVR\n",
    " \n",
    "\n",
    "# Standardize the data\n",
    "scaler = StandardScaler()\n",
    "X_train_scaled = scaler.fit_transform(X_train)\n",
    "X_test_scaled = scaler.transform(X_test)\n",
    "\n",
    "# Initialize and fit SVR model\n",
    "svr_model = SVR()\n",
    "svr_model.fit(X_train_scaled, Y_train)\n",
    "\n",
    "# Make predictions\n",
    "predictions_SVR = svr_model.predict(X_test_scaled)\n",
    "predictions_SVR"
   ]
  },
  {
   "cell_type": "code",
   "execution_count": 63,
   "id": "71896a0b",
   "metadata": {},
   "outputs": [
    {
     "name": "stdout",
     "output_type": "stream",
     "text": [
      "RMSE: 69.31889638036554, R-squared: -0.002947781353279666\n"
     ]
    }
   ],
   "source": [
    "mse = mean_squared_error(Y_test, predictions_SVR)\n",
    "r2 = r2_score(Y_test, predictions_SVR)\n",
    "rmse = mse ** 0.5\n",
    "print(f\"RMSE: {rmse}, R-squared: {r2}\") "
   ]
  }
 ],
 "metadata": {
  "kernelspec": {
   "display_name": "Python 3 (ipykernel)",
   "language": "python",
   "name": "python3"
  },
  "language_info": {
   "codemirror_mode": {
    "name": "ipython",
    "version": 3
   },
   "file_extension": ".py",
   "mimetype": "text/x-python",
   "name": "python",
   "nbconvert_exporter": "python",
   "pygments_lexer": "ipython3",
   "version": "3.9.12"
  }
 },
 "nbformat": 4,
 "nbformat_minor": 5
}
